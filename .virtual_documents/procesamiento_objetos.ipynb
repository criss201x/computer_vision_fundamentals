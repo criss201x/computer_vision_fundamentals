import cv2
import os


ruta = "/content/drive/MyDrive/Colab Notebooks/computer_vision/20251595001_ruido.mp4"
cap = cv2.VideoCapture(ruta)
assert cap.isOpened(), f"No se pudo abrir: {ruta}"





# Dimensiones y fps
w  = int(cap.get(cv2.CAP_PROP_FRAME_WIDTH))
h  = int(cap.get(cv2.CAP_PROP_FRAME_HEIGHT))
fps = cap.get(cv2.CAP_PROP_FPS)              # puede ser 0 si el contenedor no lo declara
nframes = int(cap.get(cv2.CAP_PROP_FRAME_COUNT))

# Duración estimada
dur_s = nframes / fps if fps > 0 else None

# FOURCC (códec)
fourcc_int = int(cap.get(cv2.CAP_PROP_FOURCC))
fourcc = "".join([chr((fourcc_int >> 8*i) & 0xFF) for i in range(4)])

# Tamaño del archivo y bitrate aproximado
size_bytes = os.path.getsize(ruta)
bitrate_bps = size_bytes * 8 / dur_s if dur_s else None

print(f"Resolución: {w}x{h}")
print(f"FPS: {fps:.3f}")
print(f"Fotogramas: {nframes}")
print(f"Duración (s): {dur_s:.3f}" if dur_s else "Duración: desconocida")
print(f"FOURCC: {fourcc}")
print(f"Tamaño de archivo (MB): {size_bytes/1e6:.2f}")
print(f"Bitrate aprox (Mbps): {bitrate_bps/1e6:.2f}" if bitrate_bps else "Bitrate: desconocido")


# Leer primer frame para estadísticas simples
cap.set(cv2.CAP_PROP_POS_FRAMES, 0)
ret, frame0 = cap.read()
if ret:
    # frame0 es BGR uint8
    mean_bgr = frame0.mean(axis=(0,1))  # [B, G, R]
    print("Media BGR del primer frame:", mean_bgr)

# Timestamps por frame (ms)
cap.set(cv2.CAP_PROP_POS_FRAMES, 0)
for i in range(3):  # inspecciona 3 frames
    ret, f = cap.read()
    if not ret: break
    t_ms = cap.get(cv2.CAP_PROP_POS_MSEC)
    print(f"Frame {int(cap.get(cv2.CAP_PROP_POS_FRAMES))-1} @ {t_ms:.2f} ms")
cap.release()





#guarda todos los frames a imagenes
#ruta = "video.mp4"
salida_dir = "/content/drive/MyDrive/Colab Notebooks/computer_vision/fotogramas"
os.makedirs(salida_dir, exist_ok=True)

cap = cv2.VideoCapture(ruta)
assert cap.isOpened(), "No se pudo abrir el video"

i = 0
while True:
    ok, frame = cap.read()
    if not ok:
        break
    # frame es BGR uint8
    cv2.imwrite(os.path.join(salida_dir, f"20251595001{i:06d}.png"), frame)
    i += 1

cap.release()
print(f"Guardados {i} frames en {salida_dir}")


#guarda uno de cada 10 o 15 fotogramas
N = 10  # cambia a 15 si quieres
os.makedirs(salida_dir, exist_ok=True)

cap = cv2.VideoCapture(ruta)
assert cap.isOpened(), "No se pudo abrir el video"

i, guardados = 0, 0
while True:
    ok, frame = cap.read()
    if not ok:
        break
    if i % N == 0:  # cada N frames
        cv2.imwrite(os.path.join(salida_dir, f"20251595001_nada_{guardados+1:04d}.png"), frame)
        guardados += 1
    i += 1

cap.release()
print(f"Procesados {i} frames. Guardados {guardados} en {salida_dir}.")



