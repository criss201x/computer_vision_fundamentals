{
 "cells": [
  {
   "cell_type": "code",
   "execution_count": 6,
   "metadata": {
    "executionInfo": {
     "elapsed": 8,
     "status": "ok",
     "timestamp": 1760671166724,
     "user": {
      "displayName": "Cristian Alape",
      "userId": "08190145894082331983"
     },
     "user_tz": 300
    },
    "id": "2dae5M7ZJvfF"
   },
   "outputs": [],
   "source": [
    "import cv2\n",
    "import os"
   ]
  },
  {
   "cell_type": "code",
   "execution_count": 40,
   "metadata": {
    "executionInfo": {
     "elapsed": 297,
     "status": "ok",
     "timestamp": 1760673892377,
     "user": {
      "displayName": "Cristian Alape",
      "userId": "08190145894082331983"
     },
     "user_tz": 300
    },
    "id": "uDlXhAiIK0Y5"
   },
   "outputs": [],
   "source": [
    "ruta = \"/content/drive/MyDrive/Colab Notebooks/computer_vision/20251595001_ruido.mp4\"\n",
    "cap = cv2.VideoCapture(ruta)\n",
    "assert cap.isOpened(), f\"No se pudo abrir: {ruta}\""
   ]
  },
  {
   "cell_type": "markdown",
   "metadata": {
    "id": "CyfNIqViLyqR"
   },
   "source": [
    "## Propiedades del video"
   ]
  },
  {
   "cell_type": "code",
   "execution_count": 41,
   "metadata": {
    "colab": {
     "base_uri": "https://localhost:8080/"
    },
    "executionInfo": {
     "elapsed": 8,
     "status": "ok",
     "timestamp": 1760673895073,
     "user": {
      "displayName": "Cristian Alape",
      "userId": "08190145894082331983"
     },
     "user_tz": 300
    },
    "id": "IuZHeRnKK72Z",
    "outputId": "2e62e729-bf3c-4a10-e2ae-709ebd428852"
   },
   "outputs": [
    {
     "name": "stdout",
     "output_type": "stream",
     "text": [
      "Resolución: 848x474\n",
      "FPS: 30.000\n",
      "Fotogramas: 96\n",
      "Duración (s): 3.200\n",
      "FOURCC: h264\n",
      "Tamaño de archivo (MB): 0.62\n",
      "Bitrate aprox (Mbps): 1.54\n"
     ]
    }
   ],
   "source": [
    "# Dimensiones y fps\n",
    "w  = int(cap.get(cv2.CAP_PROP_FRAME_WIDTH))\n",
    "h  = int(cap.get(cv2.CAP_PROP_FRAME_HEIGHT))\n",
    "fps = cap.get(cv2.CAP_PROP_FPS)              # puede ser 0 si el contenedor no lo declara\n",
    "nframes = int(cap.get(cv2.CAP_PROP_FRAME_COUNT))\n",
    "\n",
    "# Duración estimada\n",
    "dur_s = nframes / fps if fps > 0 else None\n",
    "\n",
    "# FOURCC (códec)\n",
    "fourcc_int = int(cap.get(cv2.CAP_PROP_FOURCC))\n",
    "fourcc = \"\".join([chr((fourcc_int >> 8*i) & 0xFF) for i in range(4)])\n",
    "\n",
    "# Tamaño del archivo y bitrate aproximado\n",
    "size_bytes = os.path.getsize(ruta)\n",
    "bitrate_bps = size_bytes * 8 / dur_s if dur_s else None\n",
    "\n",
    "print(f\"Resolución: {w}x{h}\")\n",
    "print(f\"FPS: {fps:.3f}\")\n",
    "print(f\"Fotogramas: {nframes}\")\n",
    "print(f\"Duración (s): {dur_s:.3f}\" if dur_s else \"Duración: desconocida\")\n",
    "print(f\"FOURCC: {fourcc}\")\n",
    "print(f\"Tamaño de archivo (MB): {size_bytes/1e6:.2f}\")\n",
    "print(f\"Bitrate aprox (Mbps): {bitrate_bps/1e6:.2f}\" if bitrate_bps else \"Bitrate: desconocido\")"
   ]
  },
  {
   "cell_type": "code",
   "execution_count": 42,
   "metadata": {
    "colab": {
     "base_uri": "https://localhost:8080/"
    },
    "executionInfo": {
     "elapsed": 49,
     "status": "ok",
     "timestamp": 1760673901452,
     "user": {
      "displayName": "Cristian Alape",
      "userId": "08190145894082331983"
     },
     "user_tz": 300
    },
    "id": "jVxqzdxDL9YB",
    "outputId": "a62cdd37-de18-4a47-f1d4-cf8837b54d5c"
   },
   "outputs": [
    {
     "name": "stdout",
     "output_type": "stream",
     "text": [
      "Media BGR del primer frame: [179.84529745 182.8539552  181.74223042]\n",
      "Frame 0 @ 0.00 ms\n",
      "Frame 1 @ 33.33 ms\n",
      "Frame 2 @ 66.67 ms\n"
     ]
    }
   ],
   "source": [
    "# Leer primer frame para estadísticas simples\n",
    "cap.set(cv2.CAP_PROP_POS_FRAMES, 0)\n",
    "ret, frame0 = cap.read()\n",
    "if ret:\n",
    "    # frame0 es BGR uint8\n",
    "    mean_bgr = frame0.mean(axis=(0,1))  # [B, G, R]\n",
    "    print(\"Media BGR del primer frame:\", mean_bgr)\n",
    "\n",
    "# Timestamps por frame (ms)\n",
    "cap.set(cv2.CAP_PROP_POS_FRAMES, 0)\n",
    "for i in range(3):  # inspecciona 3 frames\n",
    "    ret, f = cap.read()\n",
    "    if not ret: break\n",
    "    t_ms = cap.get(cv2.CAP_PROP_POS_MSEC)\n",
    "    print(f\"Frame {int(cap.get(cv2.CAP_PROP_POS_FRAMES))-1} @ {t_ms:.2f} ms\")\n",
    "cap.release()"
   ]
  },
  {
   "cell_type": "markdown",
   "metadata": {
    "id": "WIUu7bOnN5qb"
   },
   "source": [
    "## Almacenar fotogramas"
   ]
  },
  {
   "cell_type": "code",
   "execution_count": 13,
   "metadata": {
    "colab": {
     "base_uri": "https://localhost:8080/"
    },
    "executionInfo": {
     "elapsed": 5216,
     "status": "ok",
     "timestamp": 1760672826274,
     "user": {
      "displayName": "Cristian Alape",
      "userId": "08190145894082331983"
     },
     "user_tz": 300
    },
    "id": "11RNCeFjMIHJ",
    "outputId": "9e1a11ca-ec50-42fb-c6e5-dad2bf18c79a"
   },
   "outputs": [
    {
     "name": "stdout",
     "output_type": "stream",
     "text": [
      "Guardados 115 frames en /content/drive/MyDrive/Colab Notebooks/computer_vision/fotogramas\n"
     ]
    }
   ],
   "source": [
    "#guarda todos los frames a imagenes\n",
    "#ruta = \"video.mp4\"\n",
    "salida_dir = \"/content/drive/MyDrive/Colab Notebooks/computer_vision/fotogramas\"\n",
    "os.makedirs(salida_dir, exist_ok=True)\n",
    "\n",
    "cap = cv2.VideoCapture(ruta)\n",
    "assert cap.isOpened(), \"No se pudo abrir el video\"\n",
    "\n",
    "i = 0\n",
    "while True:\n",
    "    ok, frame = cap.read()\n",
    "    if not ok:\n",
    "        break\n",
    "    # frame es BGR uint8\n",
    "    cv2.imwrite(os.path.join(salida_dir, f\"20251595001{i:06d}.png\"), frame)\n",
    "    i += 1\n",
    "\n",
    "cap.release()\n",
    "print(f\"Guardados {i} frames en {salida_dir}\")"
   ]
  },
  {
   "cell_type": "code",
   "execution_count": 43,
   "metadata": {
    "colab": {
     "base_uri": "https://localhost:8080/"
    },
    "executionInfo": {
     "elapsed": 504,
     "status": "ok",
     "timestamp": 1760673952249,
     "user": {
      "displayName": "Cristian Alape",
      "userId": "08190145894082331983"
     },
     "user_tz": 300
    },
    "id": "GeGKBK6HOaj9",
    "outputId": "78d0c8b1-19b9-4d92-9dae-36e743c263f7"
   },
   "outputs": [
    {
     "name": "stdout",
     "output_type": "stream",
     "text": [
      "Procesados 96 frames. Guardados 10 en /content/drive/MyDrive/Colab Notebooks/computer_vision/fotogramas.\n"
     ]
    }
   ],
   "source": [
    "#guarda uno de cada 10 o 15 fotogramas\n",
    "N = 10  # cambia a 15 si quieres\n",
    "os.makedirs(salida_dir, exist_ok=True)\n",
    "\n",
    "cap = cv2.VideoCapture(ruta)\n",
    "assert cap.isOpened(), \"No se pudo abrir el video\"\n",
    "\n",
    "i, guardados = 0, 0\n",
    "while True:\n",
    "    ok, frame = cap.read()\n",
    "    if not ok:\n",
    "        break\n",
    "    if i % N == 0:  # cada N frames\n",
    "        cv2.imwrite(os.path.join(salida_dir, f\"20251595001_nada_{guardados+1:04d}.png\"), frame)\n",
    "        guardados += 1\n",
    "    i += 1\n",
    "\n",
    "cap.release()\n",
    "print(f\"Procesados {i} frames. Guardados {guardados} en {salida_dir}.\")"
   ]
  },
  {
   "cell_type": "code",
   "execution_count": null,
   "metadata": {
    "id": "ggORJ-6fSQNY"
   },
   "outputs": [],
   "source": []
  }
 ],
 "metadata": {
  "colab": {
   "authorship_tag": "ABX9TyNzyQn8C7A98CMd0YEvc0KU",
   "mount_file_id": "1hykchUVTjqVYhXxOw7g_P5SNZ17Jyxu5",
   "provenance": []
  },
  "kernelspec": {
   "display_name": "Python 3 (ipykernel)",
   "language": "python",
   "name": "python3"
  },
  "language_info": {
   "codemirror_mode": {
    "name": "ipython",
    "version": 3
   },
   "file_extension": ".py",
   "mimetype": "text/x-python",
   "name": "python",
   "nbconvert_exporter": "python",
   "pygments_lexer": "ipython3",
   "version": "3.12.2"
  }
 },
 "nbformat": 4,
 "nbformat_minor": 4
}
